{
 "cells": [
  {
   "cell_type": "code",
   "execution_count": 8,
   "metadata": {},
   "outputs": [],
   "source": [
    "import os\n",
    "import json\n",
    "import pandas as pd\n",
    "import langchain\n",
    "import langchain_groq\n",
    "import traceback"
   ]
  },
  {
   "cell_type": "code",
   "execution_count": 7,
   "metadata": {},
   "outputs": [
    {
     "data": {
      "text/plain": [
       "True"
      ]
     },
     "execution_count": 7,
     "metadata": {},
     "output_type": "execute_result"
    }
   ],
   "source": [
    "from dotenv import load_dotenv\n",
    "\n",
    "load_dotenv()"
   ]
  },
  {
   "cell_type": "code",
   "execution_count": 74,
   "metadata": {},
   "outputs": [],
   "source": [
    "from operator import itemgetter\n",
    "\n",
    "from langchain_core.prompts import PromptTemplate\n",
    "from langchain_core.runnables import RunnableParallel, RunnablePassthrough\n",
    "from langchain_core.output_parsers import StrOutputParser\n",
    "from langchain_core.output_parsers import JsonOutputParser\n",
    "\n",
    "\n"
   ]
  },
  {
   "cell_type": "code",
   "execution_count": 114,
   "metadata": {},
   "outputs": [
    {
     "data": {
      "text/plain": [
       "AIMessage(content=\"Sure, I'd be happy to explain the importance of low latency for Large Language Models (LLMs) using an analogy!\\n\\nImagine you're in a conversation with a friend, and every time you ask a question, there's a delay of several seconds before they respond. At first, it might not seem like a big deal, but as the conversation goes on, those few seconds start to add up. It becomes frustrating to wait for a response, and you might even start to lose your train of thought.\\n\\nThe same concept applies to LLMs. Low latency is important because it allows the model to respond quickly and efficiently, providing a more seamless and natural interaction. If there's a delay in the model's response time, it can disrupt the flow of the conversation and make it more difficult for users to engage with the model.\\n\\nFurthermore, in certain applications, low latency is critical for ensuring a smooth user experience. For example, in a real-time chatbot or a voice assistant, users expect immediate responses to their queries. If the model takes too long to respond, users may become impatient and abandon the interaction.\\n\\nIn summary, low latency is important for LLMs because it enables quick and efficient interactions, leading to a more satisfying user experience.\", response_metadata={'token_usage': {'completion_tokens': 276, 'prompt_tokens': 37, 'total_tokens': 313, 'completion_time': 0.446476453, 'prompt_time': 0.006880541, 'queue_time': None, 'total_time': 0.453356994}, 'model_name': 'mixtral-8x7b-32768', 'system_fingerprint': 'fp_c5f20b5bb1', 'finish_reason': 'stop', 'logprobs': None}, id='run-3628f116-885c-4a1e-8983-36a7ce10876a-0')"
      ]
     },
     "execution_count": 114,
     "metadata": {},
     "output_type": "execute_result"
    }
   ],
   "source": [
    "from langchain_core.prompts import ChatPromptTemplate\n",
    "from langchain_groq import ChatGroq\n",
    "\n",
    "chat = ChatGroq(\n",
    "    temperature=0,\n",
    "    model=\"mixtral-8x7b-32768\",\n",
    "   \n",
    "    api_key=os.getenv(\"GROQ_API_KEY\"), # Optional if not set as an environment variable\n",
    "    \n",
    ")\n",
    "\n",
    "system = \"You are a witty assistant that likes giving relevant analogies to explain queries.\"\n",
    "human = \"{text}\"\n",
    "prompt = ChatPromptTemplate.from_messages([(\"system\", system), (\"human\", human)])\n",
    "\n",
    "chain = prompt | chat\n",
    "chain.invoke({\"text\": \"Explain the importance of low latency for LLMs.\"})"
   ]
  },
  {
   "cell_type": "code",
   "execution_count": 14,
   "metadata": {},
   "outputs": [],
   "source": [
    "RESPONSE_JSON = {\n",
    "    \"1\": {\n",
    "        \"mcq\": \"multiple choice question\",\n",
    "        \"options\": {\n",
    "            \"a\": \"choice here\",\n",
    "            \"b\": \"choice here\",\n",
    "            \"c\": \"choice here\",\n",
    "            \"d\": \"choice here\",\n",
    "        },\n",
    "        \"correct\": \"correct answer\",\n",
    "    },\n",
    "    \"2\": {\n",
    "        \"mcq\": \"multiple choice question\",\n",
    "        \"options\": {\n",
    "            \"a\": \"choice here\",\n",
    "            \"b\": \"choice here\",\n",
    "            \"c\": \"choice here\",\n",
    "            \"d\": \"choice here\",\n",
    "        },\n",
    "        \"correct\": \"correct answer\",\n",
    "    },\n",
    "    \"3\": {\n",
    "        \"mcq\": \"multiple choice question\",\n",
    "        \"options\": {\n",
    "            \"a\": \"choice here\",\n",
    "            \"b\": \"choice here\",\n",
    "            \"c\": \"choice here\",\n",
    "            \"d\": \"choice here\",\n",
    "        },\n",
    "        \"correct\": \"correct answer\",\n",
    "    },\n",
    "}"
   ]
  },
  {
   "cell_type": "code",
   "execution_count": 212,
   "metadata": {},
   "outputs": [
    {
     "name": "stdout",
     "output_type": "stream",
     "text": [
      "{\"1\": {\"mcq\": \"multiple choice question\", \"options\": {\"a\": \"choice here\", \"b\": \"choice here\", \"c\": \"choice here\", \"d\": \"choice here\"}, \"correct\": \"correct answer\"}, \"2\": {\"mcq\": \"multiple choice question\", \"options\": {\"a\": \"choice here\", \"b\": \"choice here\", \"c\": \"choice here\", \"d\": \"choice here\"}, \"correct\": \"correct answer\"}, \"3\": {\"mcq\": \"multiple choice question\", \"options\": {\"a\": \"choice here\", \"b\": \"choice here\", \"c\": \"choice here\", \"d\": \"choice here\"}, \"correct\": \"correct answer\"}}\n"
     ]
    }
   ],
   "source": [
    "print(json.dumps(RESPONSE_JSON))"
   ]
  },
  {
   "cell_type": "code",
   "execution_count": 206,
   "metadata": {},
   "outputs": [],
   "source": [
    "TEMPLATE=r\"\"\"\n",
    "Text:{text}\n",
    "You are an expert MCQ maker. Given the above text, it is your job to \\\n",
    "create a quiz  of {number} multiple choice questions for {subject} students in {tone} tone. \n",
    "Make sure the questions are not repeated and check all the questions to be conforming the text as well.\n",
    "Make sure to format your response like the json format given below  and use it as a guide.\n",
    "Ensure to make {number} MCQs\n",
    "\n",
    "{response_json}\n",
    "\n",
    "The json keys and values MUST be in double quotes(\"\"). Ensure once again that the json keys and values are encased in double quotes(\"\")\n",
    "also, i dont want any newline characters in the output. Ensure that there are no newline characters in the output\n",
    "\n",
    "\"\"\""
   ]
  },
  {
   "cell_type": "code",
   "execution_count": 193,
   "metadata": {},
   "outputs": [],
   "source": [
    "quiz_generation_prompt = PromptTemplate(\n",
    "    input_variables=[\"text\", \"number\", \"subject\", \"tone\", \"response_json\"],\n",
    "    template=TEMPLATE\n",
    "    )"
   ]
  },
  {
   "cell_type": "code",
   "execution_count": 194,
   "metadata": {},
   "outputs": [],
   "source": [
    "quiz_chain= quiz_generation_prompt | chat "
   ]
  },
  {
   "cell_type": "code",
   "execution_count": 217,
   "metadata": {},
   "outputs": [],
   "source": [
    "from src.mcqgenerator.utils import get_table_data"
   ]
  },
  {
   "cell_type": "code",
   "execution_count": 218,
   "metadata": {},
   "outputs": [
    {
     "name": "stdout",
     "output_type": "stream",
     "text": [
      "[{'MCQ': 'In what year was Ravikant born?', 'Choices': 'a-> 1974 || b-> 1984 || c-> 1994 || d-> 1964', 'Correct': 'a'}, {'MCQ': 'Which law firm did Ravikant intern at during college?', 'Choices': 'a-> Davis Polk & Wardwell || b-> Cravath, Swaine & Moore || c-> Sullivan & Cromwell || d-> Skadden, Arps, Slate, Meagher & Flom', 'Correct': 'a'}, {'MCQ': 'What is the name of the social media app that Ravikant co-founded in 2023?', 'Choices': 'a-> Airchat || b-> Chatly || c-> Socio || d-> Connect', 'Correct': 'a'}, {'MCQ': 'Which of the following companies did Hit Forge invest in?', 'Choices': 'a-> Twitter, Uber and Stack Overflow || b-> Google, Facebook and Amazon || c-> Microsoft, Apple and IBM || d-> Tesla, SpaceX and Neuralink', 'Correct': 'a'}, {'MCQ': \"What is the name of the book that curates Ravikant's tweets, essays, and interviews on wealth and happiness?\", 'Choices': \"a-> The Almanack of Naval Ravikant || b-> Ravikant's Wealth Wisdom || c-> The Essential Naval || d-> Wealth and Happiness with Naval\", 'Correct': 'a'}]\n"
     ]
    }
   ],
   "source": [
    "AI_message= quiz_chain.invoke(dict_passed_in)\n",
    "print(get_table_data(AI_message.content))"
   ]
  },
  {
   "cell_type": "code",
   "execution_count": 198,
   "metadata": {},
   "outputs": [],
   "source": [
    "quiz_str= AI_message.content\n",
    "quiz_str_stripped = quiz_str.strip()"
   ]
  },
  {
   "cell_type": "code",
   "execution_count": 177,
   "metadata": {},
   "outputs": [],
   "source": [
    "def single_double_quote_converter(single_string):\n",
    "    return single_string.replace(\"'\", '\"')\n",
    "\n",
    "def get_table_data(quiz_str):\n",
    "    try:\n",
    "        \n",
    "        # convert the quiz from a str to dict\n",
    "        quiz_dict=json.loads(quiz_str, strict=False)\n",
    "        quiz_table_data=[]\n",
    "    \n",
    "        \n",
    "        # iterate over the quiz dictionary and extract the required information\n",
    "        for key,value in quiz_dict.items():\n",
    "            mcq=value[\"mcq\"]\n",
    "            options=\" || \".join(\n",
    "                [\n",
    "                    f\"{option}-> {option_value}\" for option, option_value in value[\"options\"].items()\n",
    "                 \n",
    "                 ]\n",
    "            )\n",
    "            \n",
    "            correct=value[\"correct\"]\n",
    "            quiz_table_data.append({\"MCQ\": mcq,\"Choices\": options, \"Correct\": correct})\n",
    "        \n",
    "        return quiz_table_data\n",
    "        \n",
    "    except Exception as e:\n",
    "        traceback.print_exception(type(e), e, e.__traceback__)\n",
    "        return False\n"
   ]
  },
  {
   "cell_type": "code",
   "execution_count": 200,
   "metadata": {},
   "outputs": [
    {
     "name": "stdout",
     "output_type": "stream",
     "text": [
      "<class 'list'>\n"
     ]
    }
   ],
   "source": [
    "\n",
    "table_data= get_table_data(quiz_str=quiz_str)\n",
    "print(type(table_data))\n"
   ]
  },
  {
   "cell_type": "code",
   "execution_count": 186,
   "metadata": {},
   "outputs": [],
   "source": [
    "in_text= \"\"\"Early life and education\n",
    "Ravikant was born in New Delhi, India in 1974. He moved to New York with his mother and his brother, Kamal, when he was 9. He graduated from Stuyvesant High School in 1991.[6] In 1995, he graduated with degrees in Computer Science and Economics from Dartmouth College.[3] In college, he interned at law firm Davis Polk & Wardwell.[7] After graduating from Dartmouth College, Naval had a brief stint at Boston Consulting Group before heading to Silicon Valley.[7]\n",
    "\n",
    "Career\n",
    "Epinions\n",
    "Main article: Epinions\n",
    "In 1999, Ravikant co-founded consumer product review site Epinions.[8] They raised $45 million in venture capital from Benchmark Capital and August Capital.[8] In 2003, Epinions merged with comparison pricing site Dealtime with the approval of Ravikant and the other co-founders that had left the company—even though it meant valuing their shares at zero.[8]\n",
    "\n",
    "The merged company became Shopping.com which held an IPO in October 2004.[8] After its first day of trading, it was worth $750 million.[8] In January 2005, Ravikant and three of his co-founders filed a lawsuit against Benchmark, August Capital, their co-founder Nirav Tolia who remained at Epinions after his co-founders' departures claiming that—to get their approval for the merger—they were misled to believe that at the time of the merger, the company was worth \"$23 million to $38 million\", less than the $45 million that they had raised in outside capital, making their shares worthless. The lawsuit was settled in December 2005.\n",
    "\n",
    "Hit Forge\n",
    "Around 2007, Ravikant started a $20 million early stage venture capital fund named \"The Hit Forge\".[9] Hit Forge invested in prominent startups including Twitter, Uber and Stack Overflow.[10][11][12]\n",
    "\n",
    "AngelList\n",
    "Main article: AngelList\n",
    "In 2007, Ravikant began co-writing a blog called Venture Hacks, which \"offered detailed advice on negotiating term sheets, explained which sections mattered, and which provisions were bogus.\"[13] That blog evolved into AngelList, which Ravikant co-founded in 2010, as a fundraising platform for startups to raise money from angel investors. AngelList also operates Product Hunt. In 2022, AngelList reached a $4 billion valuation.[14] Naval is the chairman and former CEO of AngelList.[2]\n",
    "\n",
    "MetaStable Capital\n",
    "In 2014, Ravikant co-founded MetaStable Capital, a cryptocurrency hedge fund that owned Bitcoin, Ethereum, Monero and a number of other cryptocurrencies. A June 2017 regulatory filing reported its assets as $69 million.[15] Investors in the fund include Andreessen Horowitz, Sequoia Capital, Union Square Ventures, Founders Fund and Bessemer Venture Partners.\n",
    "\n",
    "Spearhead.co investment fund\n",
    "In 2017, Naval launched Spearhead, an investment fund which raised $100m for its third fund to provide founders with $1m each to invest in technology companies as angel investors.[16] The first two classes of Spearhead include founders from 35 companies. Together, these companies are worth over $10B, and four of them are unicorns. The companies include Neuralink, Opendoor, PillPack, Shippo (company), Rippling and Scale.[17] Previous Spearhead leads include Shippo co-founder and chief executive officer Laura Behrens Wu, Scale AI founder and CEO Alexandr Wang and Rippling co-founder and chief technology officer Prasanna Sankar.[17]\n",
    "\n",
    "Nav.al, Spearhead, and other podcasts\n",
    "Naval runs a short-form podcast at Nav.al and Spearhead.co, where he discusses philosophy, business, and investing. He has also been a podcast guest on The Joe Rogan Experience, The Tim Ferriss Show, Coffee with Scott Adams, The James Altucher Show and Farnam Street, among others.\n",
    "\n",
    "With Ravikant's permission, Eric Jorgenson curated Naval's tweets, essays, and interviews on wealth and happiness, then published them as a free downloadable book called The Almanack of Naval Ravikant, with a foreword by Tim Ferriss.[18]\n",
    "\n",
    "Ravikant has a chapter giving advice in Tim Ferriss' book Tools of Titans.\n",
    "\n",
    "Airchat\n",
    "Ravikant co-founded Airchat in 2023, a social media app.[19] It uses Generative AI and is similar to Instagram stories.[19]\"\"\""
   ]
  },
  {
   "cell_type": "code",
   "execution_count": 213,
   "metadata": {},
   "outputs": [],
   "source": [
    "dict_passed_in={\"text\":in_text, \"number\":5 , \"subject\":\"general people\", \"tone\":\"very hard\", \"response_json\":json.dumps(RESPONSE_JSON)}"
   ]
  },
  {
   "cell_type": "markdown",
   "metadata": {},
   "source": [
    "# Fiddling with generate + eval chain from here\n"
   ]
  },
  {
   "cell_type": "code",
   "execution_count": 83,
   "metadata": {},
   "outputs": [],
   "source": [
    "quiz_chain_w_output_key= RunnablePassthrough.assign(quiz= quiz_chain)"
   ]
  },
  {
   "cell_type": "code",
   "execution_count": 89,
   "metadata": {},
   "outputs": [
    {
     "name": "stdout",
     "output_type": "stream",
     "text": [
      "{'text': \"Advanced topics in Newtonian physics at the undergraduate level typically include:\\nLagrangian and Hamiltonian Formulations: These mathematical frameworks provide alternative ways to describe classical mechanics, emphasizing energy and momentum conservation. They are essential for understanding more complex systems and are often used in advanced courses.\\nDeterministic Chaos Theory: This topic explores the intricate behavior of complex systems, such as the Poincaré surface-of-section, which helps students visualize and analyze the dynamics of chaotic systems.\\nEuler's Rigid Body Equations of Motion: These equations describe the motion of rigid bodies, which is crucial for understanding many real-world phenomena, such as the motion of spacecraft and the behavior of molecules.\\nCanonical Perturbation Theory: This method is used to study the long-term behavior of complex systems by analyzing small perturbations to their motion. It is essential for understanding many phenomena in astrophysics and cosmology.\\nCentral Force Motion and Scattering: These topics involve the study of the motion of particles under the influence of central forces, such as gravitational or Coulomb forces. They are fundamental to understanding many astrophysical and cosmological phenomena.\\nThese advanced topics in Newtonian physics provide a deeper understanding of the underlying principles and help students develop a more nuanced appreciation for the complexities of classical mechanics.\", 'number': 5, 'subject': 'physics undergrads', 'tone': 'moderate', 'response_json': {'1': {'mcq': 'multiple choice question', 'options': {'a': 'choice here', 'b': 'choice here', 'c': 'choice here', 'd': 'choice here'}, 'correct': 'correct answer'}, '2': {'mcq': 'multiple choice question', 'options': {'a': 'choice here', 'b': 'choice here', 'c': 'choice here', 'd': 'choice here'}, 'correct': 'correct answer'}, '3': {'mcq': 'multiple choice question', 'options': {'a': 'choice here', 'b': 'choice here', 'c': 'choice here', 'd': 'choice here'}, 'correct': 'correct answer'}}, 'quiz': \" RESPONSE\\\\_JSON\\n{'1': {'mcq': 'Which of the following mathematical frameworks provides an alternative way to describe classical mechanics, emphasizing energy conservation?', 'options': {'a': 'Lagrangian Formulation', 'b': 'Hamiltonian Formulation', 'c': 'Newtonian Formulation', 'd': 'Eulerian Formulation'}, 'correct': 'a'},\\n'2': {'mcq': 'Which of the following topics in Newtonian physics deals with the intricate behavior of complex systems, such as the Poincaré surface-of-section?', 'options': {'a': 'Deterministic Chaos Theory', 'b': 'Euler's Rigid Body Equations of Motion', 'c': 'Canonical Perturbation Theory', 'd': 'Central Force Motion and Scattering'}, 'correct': 'a'},\\n'3': {'mcq': 'Which of the following equations describe the motion of rigid bodies, which is crucial for understanding many real-world phenomena, such as the motion of spacecraft and the behavior of molecules?', 'options': {'a': 'Euler's Rigid Body Equations of Motion', 'b': 'Lagrangian Formulation', 'c': 'Hamiltonian Formulation', 'd': 'Canonical Perturbation Theory'}, 'correct': 'a'},\\n'4': {'mcq': 'Which of the following methods is used to study the long-term behavior of complex systems by analyzing small perturbations to their motion?', 'options': {'a': 'Canonical Perturbation Theory', 'b': 'Deterministic Chaos Theory', 'c': 'Euler's Rigid Body Equations of Motion', 'd': 'Central Force Motion and Scattering'}, 'correct': 'a'},\\n'5': {'mcq': 'Which of the following topics involve the study of the motion of particles under the influence of central forces, such as gravitational or Coulomb forces?', 'options': {'a': 'Central Force Motion and Scattering', 'b': 'Canonical Perturbation Theory', 'c': 'Deterministic Chaos Theory', 'd': 'Euler's Rigid Body Equations of Motion'}, 'correct': 'a'}}\"}\n"
     ]
    }
   ],
   "source": [
    "\n",
    "response=quiz_chain_w_output_key.invoke(dict_passed_in)\n",
    "print(response)"
   ]
  },
  {
   "cell_type": "code",
   "execution_count": 99,
   "metadata": {},
   "outputs": [],
   "source": [
    "str_parser = StrOutputParser()\n",
    "parsed_output = str_parser.parse(response.get(\"quiz\"))\n",
    "\n"
   ]
  },
  {
   "cell_type": "code",
   "execution_count": 66,
   "metadata": {},
   "outputs": [
    {
     "name": "stdout",
     "output_type": "stream",
     "text": [
      "<class 'langchain_core.messages.ai.AIMessage'>\n"
     ]
    }
   ],
   "source": [
    "print(type(final_quiz))"
   ]
  },
  {
   "cell_type": "code",
   "execution_count": 35,
   "metadata": {},
   "outputs": [],
   "source": [
    "TEMPLATE2=\"\"\"\n",
    "You are an expert english grammarian and writer. Given a Multiple Choice Quiz for {subject} students.\\\n",
    "You need to evaluate the complexity of the question and give a complete analysis of the quiz. Only use at max 50 words for complexity analysis. \n",
    "if the quiz is not at per with the cognitive and analytical abilities of the students,\\\n",
    "update the quiz questions which needs to be changed and change the tone such that it perfectly fits the student abilities\n",
    "Quiz_MCQs:\n",
    "{quiz}\n",
    "\n",
    "Check from an expert English Writer of the above quiz:\n",
    "\"\"\""
   ]
  },
  {
   "cell_type": "code",
   "execution_count": 49,
   "metadata": {},
   "outputs": [],
   "source": [
    "quiz_evaluation_prompt=PromptTemplate(input_variables=[\"subject\", \"quiz\"], template=TEMPLATE2)"
   ]
  },
  {
   "cell_type": "code",
   "execution_count": 87,
   "metadata": {},
   "outputs": [],
   "source": [
    "full_prompt_chain= (\n",
    "    quiz_chain_w_output_key\n",
    "    |{\n",
    "        \"quiz\":itemgetter(\"quiz\"),\n",
    "        \"subject\":itemgetter(\"subject\")\n",
    "    }\n",
    "    | quiz_evaluation_prompt\n",
    "    |chat\n",
    "    |RunnablePassthrough.assign()\n",
    ")"
   ]
  },
  {
   "cell_type": "code",
   "execution_count": 88,
   "metadata": {},
   "outputs": [
    {
     "ename": "TypeError",
     "evalue": "RunnablePassthrough.assign() takes 1 positional argument but 2 were given",
     "output_type": "error",
     "traceback": [
      "\u001b[1;31m---------------------------------------------------------------------------\u001b[0m",
      "\u001b[1;31mTypeError\u001b[0m                                 Traceback (most recent call last)",
      "Cell \u001b[1;32mIn[88], line 1\u001b[0m\n\u001b[1;32m----> 1\u001b[0m \u001b[43mfull_prompt_chain\u001b[49m\u001b[38;5;241;43m.\u001b[39;49m\u001b[43minvoke\u001b[49m\u001b[43m(\u001b[49m\u001b[43mdict_passed_in\u001b[49m\u001b[43m)\u001b[49m\n",
      "File \u001b[1;32mc:\\Users\\User\\miniconda3\\envs\\mcqgenenv\\Lib\\site-packages\\langchain_core\\runnables\\base.py:2504\u001b[0m, in \u001b[0;36mRunnableSequence.invoke\u001b[1;34m(self, input, config, **kwargs)\u001b[0m\n\u001b[0;32m   2502\u001b[0m             \u001b[38;5;28minput\u001b[39m \u001b[38;5;241m=\u001b[39m step\u001b[38;5;241m.\u001b[39minvoke(\u001b[38;5;28minput\u001b[39m, config, \u001b[38;5;241m*\u001b[39m\u001b[38;5;241m*\u001b[39mkwargs)\n\u001b[0;32m   2503\u001b[0m         \u001b[38;5;28;01melse\u001b[39;00m:\n\u001b[1;32m-> 2504\u001b[0m             \u001b[38;5;28minput\u001b[39m \u001b[38;5;241m=\u001b[39m \u001b[43mstep\u001b[49m\u001b[38;5;241;43m.\u001b[39;49m\u001b[43minvoke\u001b[49m\u001b[43m(\u001b[49m\u001b[38;5;28;43minput\u001b[39;49m\u001b[43m,\u001b[49m\u001b[43m \u001b[49m\u001b[43mconfig\u001b[49m\u001b[43m)\u001b[49m\n\u001b[0;32m   2505\u001b[0m \u001b[38;5;66;03m# finish the root run\u001b[39;00m\n\u001b[0;32m   2506\u001b[0m \u001b[38;5;28;01mexcept\u001b[39;00m \u001b[38;5;167;01mBaseException\u001b[39;00m \u001b[38;5;28;01mas\u001b[39;00m e:\n",
      "File \u001b[1;32mc:\\Users\\User\\miniconda3\\envs\\mcqgenenv\\Lib\\site-packages\\langchain_core\\runnables\\base.py:3976\u001b[0m, in \u001b[0;36mRunnableLambda.invoke\u001b[1;34m(self, input, config, **kwargs)\u001b[0m\n\u001b[0;32m   3974\u001b[0m \u001b[38;5;250m\u001b[39m\u001b[38;5;124;03m\"\"\"Invoke this runnable synchronously.\"\"\"\u001b[39;00m\n\u001b[0;32m   3975\u001b[0m \u001b[38;5;28;01mif\u001b[39;00m \u001b[38;5;28mhasattr\u001b[39m(\u001b[38;5;28mself\u001b[39m, \u001b[38;5;124m\"\u001b[39m\u001b[38;5;124mfunc\u001b[39m\u001b[38;5;124m\"\u001b[39m):\n\u001b[1;32m-> 3976\u001b[0m     \u001b[38;5;28;01mreturn\u001b[39;00m \u001b[38;5;28;43mself\u001b[39;49m\u001b[38;5;241;43m.\u001b[39;49m\u001b[43m_call_with_config\u001b[49m\u001b[43m(\u001b[49m\n\u001b[0;32m   3977\u001b[0m \u001b[43m        \u001b[49m\u001b[38;5;28;43mself\u001b[39;49m\u001b[38;5;241;43m.\u001b[39;49m\u001b[43m_invoke\u001b[49m\u001b[43m,\u001b[49m\n\u001b[0;32m   3978\u001b[0m \u001b[43m        \u001b[49m\u001b[38;5;28;43minput\u001b[39;49m\u001b[43m,\u001b[49m\n\u001b[0;32m   3979\u001b[0m \u001b[43m        \u001b[49m\u001b[38;5;28;43mself\u001b[39;49m\u001b[38;5;241;43m.\u001b[39;49m\u001b[43m_config\u001b[49m\u001b[43m(\u001b[49m\u001b[43mconfig\u001b[49m\u001b[43m,\u001b[49m\u001b[43m \u001b[49m\u001b[38;5;28;43mself\u001b[39;49m\u001b[38;5;241;43m.\u001b[39;49m\u001b[43mfunc\u001b[49m\u001b[43m)\u001b[49m\u001b[43m,\u001b[49m\n\u001b[0;32m   3980\u001b[0m \u001b[43m        \u001b[49m\u001b[38;5;241;43m*\u001b[39;49m\u001b[38;5;241;43m*\u001b[39;49m\u001b[43mkwargs\u001b[49m\u001b[43m,\u001b[49m\n\u001b[0;32m   3981\u001b[0m \u001b[43m    \u001b[49m\u001b[43m)\u001b[49m\n\u001b[0;32m   3982\u001b[0m \u001b[38;5;28;01melse\u001b[39;00m:\n\u001b[0;32m   3983\u001b[0m     \u001b[38;5;28;01mraise\u001b[39;00m \u001b[38;5;167;01mTypeError\u001b[39;00m(\n\u001b[0;32m   3984\u001b[0m         \u001b[38;5;124m\"\u001b[39m\u001b[38;5;124mCannot invoke a coroutine function synchronously.\u001b[39m\u001b[38;5;124m\"\u001b[39m\n\u001b[0;32m   3985\u001b[0m         \u001b[38;5;124m\"\u001b[39m\u001b[38;5;124mUse `ainvoke` instead.\u001b[39m\u001b[38;5;124m\"\u001b[39m\n\u001b[0;32m   3986\u001b[0m     )\n",
      "File \u001b[1;32mc:\\Users\\User\\miniconda3\\envs\\mcqgenenv\\Lib\\site-packages\\langchain_core\\runnables\\base.py:1598\u001b[0m, in \u001b[0;36mRunnable._call_with_config\u001b[1;34m(self, func, input, config, run_type, **kwargs)\u001b[0m\n\u001b[0;32m   1594\u001b[0m     context \u001b[38;5;241m=\u001b[39m copy_context()\n\u001b[0;32m   1595\u001b[0m     context\u001b[38;5;241m.\u001b[39mrun(_set_config_context, child_config)\n\u001b[0;32m   1596\u001b[0m     output \u001b[38;5;241m=\u001b[39m cast(\n\u001b[0;32m   1597\u001b[0m         Output,\n\u001b[1;32m-> 1598\u001b[0m         \u001b[43mcontext\u001b[49m\u001b[38;5;241;43m.\u001b[39;49m\u001b[43mrun\u001b[49m\u001b[43m(\u001b[49m\n\u001b[0;32m   1599\u001b[0m \u001b[43m            \u001b[49m\u001b[43mcall_func_with_variable_args\u001b[49m\u001b[43m,\u001b[49m\u001b[43m  \u001b[49m\u001b[38;5;66;43;03m# type: ignore[arg-type]\u001b[39;49;00m\n\u001b[0;32m   1600\u001b[0m \u001b[43m            \u001b[49m\u001b[43mfunc\u001b[49m\u001b[43m,\u001b[49m\u001b[43m  \u001b[49m\u001b[38;5;66;43;03m# type: ignore[arg-type]\u001b[39;49;00m\n\u001b[0;32m   1601\u001b[0m \u001b[43m            \u001b[49m\u001b[38;5;28;43minput\u001b[39;49m\u001b[43m,\u001b[49m\u001b[43m  \u001b[49m\u001b[38;5;66;43;03m# type: ignore[arg-type]\u001b[39;49;00m\n\u001b[0;32m   1602\u001b[0m \u001b[43m            \u001b[49m\u001b[43mconfig\u001b[49m\u001b[43m,\u001b[49m\n\u001b[0;32m   1603\u001b[0m \u001b[43m            \u001b[49m\u001b[43mrun_manager\u001b[49m\u001b[43m,\u001b[49m\n\u001b[0;32m   1604\u001b[0m \u001b[43m            \u001b[49m\u001b[38;5;241;43m*\u001b[39;49m\u001b[38;5;241;43m*\u001b[39;49m\u001b[43mkwargs\u001b[49m\u001b[43m,\u001b[49m\n\u001b[0;32m   1605\u001b[0m \u001b[43m        \u001b[49m\u001b[43m)\u001b[49m,\n\u001b[0;32m   1606\u001b[0m     )\n\u001b[0;32m   1607\u001b[0m \u001b[38;5;28;01mexcept\u001b[39;00m \u001b[38;5;167;01mBaseException\u001b[39;00m \u001b[38;5;28;01mas\u001b[39;00m e:\n\u001b[0;32m   1608\u001b[0m     run_manager\u001b[38;5;241m.\u001b[39mon_chain_error(e)\n",
      "File \u001b[1;32mc:\\Users\\User\\miniconda3\\envs\\mcqgenenv\\Lib\\site-packages\\langchain_core\\runnables\\config.py:380\u001b[0m, in \u001b[0;36mcall_func_with_variable_args\u001b[1;34m(func, input, config, run_manager, **kwargs)\u001b[0m\n\u001b[0;32m    378\u001b[0m \u001b[38;5;28;01mif\u001b[39;00m run_manager \u001b[38;5;129;01mis\u001b[39;00m \u001b[38;5;129;01mnot\u001b[39;00m \u001b[38;5;28;01mNone\u001b[39;00m \u001b[38;5;129;01mand\u001b[39;00m accepts_run_manager(func):\n\u001b[0;32m    379\u001b[0m     kwargs[\u001b[38;5;124m\"\u001b[39m\u001b[38;5;124mrun_manager\u001b[39m\u001b[38;5;124m\"\u001b[39m] \u001b[38;5;241m=\u001b[39m run_manager\n\u001b[1;32m--> 380\u001b[0m \u001b[38;5;28;01mreturn\u001b[39;00m \u001b[43mfunc\u001b[49m\u001b[43m(\u001b[49m\u001b[38;5;28;43minput\u001b[39;49m\u001b[43m,\u001b[49m\u001b[43m \u001b[49m\u001b[38;5;241;43m*\u001b[39;49m\u001b[38;5;241;43m*\u001b[39;49m\u001b[43mkwargs\u001b[49m\u001b[43m)\u001b[49m\n",
      "File \u001b[1;32mc:\\Users\\User\\miniconda3\\envs\\mcqgenenv\\Lib\\site-packages\\langchain_core\\runnables\\base.py:3844\u001b[0m, in \u001b[0;36mRunnableLambda._invoke\u001b[1;34m(self, input, run_manager, config, **kwargs)\u001b[0m\n\u001b[0;32m   3842\u001b[0m                 output \u001b[38;5;241m=\u001b[39m chunk\n\u001b[0;32m   3843\u001b[0m \u001b[38;5;28;01melse\u001b[39;00m:\n\u001b[1;32m-> 3844\u001b[0m     output \u001b[38;5;241m=\u001b[39m \u001b[43mcall_func_with_variable_args\u001b[49m\u001b[43m(\u001b[49m\n\u001b[0;32m   3845\u001b[0m \u001b[43m        \u001b[49m\u001b[38;5;28;43mself\u001b[39;49m\u001b[38;5;241;43m.\u001b[39;49m\u001b[43mfunc\u001b[49m\u001b[43m,\u001b[49m\u001b[43m \u001b[49m\u001b[38;5;28;43minput\u001b[39;49m\u001b[43m,\u001b[49m\u001b[43m \u001b[49m\u001b[43mconfig\u001b[49m\u001b[43m,\u001b[49m\u001b[43m \u001b[49m\u001b[43mrun_manager\u001b[49m\u001b[43m,\u001b[49m\u001b[43m \u001b[49m\u001b[38;5;241;43m*\u001b[39;49m\u001b[38;5;241;43m*\u001b[39;49m\u001b[43mkwargs\u001b[49m\n\u001b[0;32m   3846\u001b[0m \u001b[43m    \u001b[49m\u001b[43m)\u001b[49m\n\u001b[0;32m   3847\u001b[0m \u001b[38;5;66;03m# If the output is a runnable, invoke it\u001b[39;00m\n\u001b[0;32m   3848\u001b[0m \u001b[38;5;28;01mif\u001b[39;00m \u001b[38;5;28misinstance\u001b[39m(output, Runnable):\n",
      "File \u001b[1;32mc:\\Users\\User\\miniconda3\\envs\\mcqgenenv\\Lib\\site-packages\\langchain_core\\runnables\\config.py:380\u001b[0m, in \u001b[0;36mcall_func_with_variable_args\u001b[1;34m(func, input, config, run_manager, **kwargs)\u001b[0m\n\u001b[0;32m    378\u001b[0m \u001b[38;5;28;01mif\u001b[39;00m run_manager \u001b[38;5;129;01mis\u001b[39;00m \u001b[38;5;129;01mnot\u001b[39;00m \u001b[38;5;28;01mNone\u001b[39;00m \u001b[38;5;129;01mand\u001b[39;00m accepts_run_manager(func):\n\u001b[0;32m    379\u001b[0m     kwargs[\u001b[38;5;124m\"\u001b[39m\u001b[38;5;124mrun_manager\u001b[39m\u001b[38;5;124m\"\u001b[39m] \u001b[38;5;241m=\u001b[39m run_manager\n\u001b[1;32m--> 380\u001b[0m \u001b[38;5;28;01mreturn\u001b[39;00m \u001b[43mfunc\u001b[49m\u001b[43m(\u001b[49m\u001b[38;5;28;43minput\u001b[39;49m\u001b[43m,\u001b[49m\u001b[43m \u001b[49m\u001b[38;5;241;43m*\u001b[39;49m\u001b[38;5;241;43m*\u001b[39;49m\u001b[43mkwargs\u001b[49m\u001b[43m)\u001b[49m\n",
      "\u001b[1;31mTypeError\u001b[0m: RunnablePassthrough.assign() takes 1 positional argument but 2 were given"
     ]
    }
   ],
   "source": [
    "full_prompt_chain.invoke(dict_passed_in)"
   ]
  }
 ],
 "metadata": {
  "kernelspec": {
   "display_name": "Python 3",
   "language": "python",
   "name": "python3"
  },
  "language_info": {
   "name": "python",
   "version": "3.11.9"
  }
 },
 "nbformat": 4,
 "nbformat_minor": 2
}
