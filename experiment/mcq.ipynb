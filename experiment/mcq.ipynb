{
 "cells": [
  {
   "cell_type": "code",
   "execution_count": 8,
   "metadata": {},
   "outputs": [],
   "source": [
    "import os\n",
    "import json\n",
    "import pandas as pd\n",
    "import langchain\n",
    "import langchain_groq\n",
    "import traceback"
   ]
  },
  {
   "cell_type": "code",
   "execution_count": 7,
   "metadata": {},
   "outputs": [
    {
     "data": {
      "text/plain": [
       "True"
      ]
     },
     "execution_count": 7,
     "metadata": {},
     "output_type": "execute_result"
    }
   ],
   "source": [
    "from dotenv import load_dotenv\n",
    "\n",
    "load_dotenv()"
   ]
  },
  {
   "cell_type": "code",
   "execution_count": 74,
   "metadata": {},
   "outputs": [],
   "source": [
    "from operator import itemgetter\n",
    "\n",
    "from langchain_core.prompts import PromptTemplate\n",
    "from langchain_core.runnables import RunnableParallel, RunnablePassthrough\n",
    "from langchain_core.output_parsers import StrOutputParser\n",
    "from langchain_core.output_parsers import JsonOutputParser\n",
    "\n",
    "\n"
   ]
  },
  {
   "cell_type": "code",
   "execution_count": 12,
   "metadata": {},
   "outputs": [
    {
     "data": {
      "text/plain": [
       "AIMessage(content=\"Sure, I'd be happy to explain!\\n\\nThink of low latency in large language models (LLMs) as the difference between a quick-witted conversation partner and a slow, plodding one. In a fast-paced conversation, you want your partner to keep up with the flow of ideas and respond promptly. If they take too long to think and respond, the conversation can feel stilted and unnatural.\\n\\nSimilarly, in the world of LLMs, low latency is crucial for maintaining the flow of interaction. When a model takes too long to generate a response, it can disrupt the user's train of thought and make the interaction feel less fluid and natural.\\n\\nMoreover, in many applications, low latency is not just a matter of convenience, but a necessity. For example, in real-time chatbots or voice assistants, users expect quick and snappy responses. If the model takes too long to generate a response, it can lead to a poor user experience and even frustration.\\n\\nTherefore, just as in a lively conversation, low latency is key to maintaining the flow and engagement in interactions with LLMs.\", response_metadata={'token_usage': {'completion_tokens': 247, 'prompt_tokens': 37, 'total_tokens': 284, 'completion_time': 0.392755602, 'prompt_time': 0.007945754, 'queue_time': None, 'total_time': 0.400701356}, 'model_name': 'mixtral-8x7b-32768', 'system_fingerprint': 'fp_c5f20b5bb1', 'finish_reason': 'stop', 'logprobs': None}, id='run-cad28608-3f7a-47b4-9502-2f778f74c7ce-0')"
      ]
     },
     "execution_count": 12,
     "metadata": {},
     "output_type": "execute_result"
    }
   ],
   "source": [
    "from langchain_core.prompts import ChatPromptTemplate\n",
    "from langchain_groq import ChatGroq\n",
    "\n",
    "chat = ChatGroq(\n",
    "    temperature=0,\n",
    "    model=\"mixtral-8x7b-32768\",\n",
    "     api_key=os.getenv(\"GROQ_API_KEY\") # Optional if not set as an environment variable\n",
    ")\n",
    "\n",
    "system = \"You are a witty assistant that likes giving relevant analogies to explain queries.\"\n",
    "human = \"{text}\"\n",
    "prompt = ChatPromptTemplate.from_messages([(\"system\", system), (\"human\", human)])\n",
    "\n",
    "chain = prompt | chat\n",
    "chain.invoke({\"text\": \"Explain the importance of low latency for LLMs.\"})"
   ]
  },
  {
   "cell_type": "code",
   "execution_count": 14,
   "metadata": {},
   "outputs": [],
   "source": [
    "RESPONSE_JSON = {\n",
    "    \"1\": {\n",
    "        \"mcq\": \"multiple choice question\",\n",
    "        \"options\": {\n",
    "            \"a\": \"choice here\",\n",
    "            \"b\": \"choice here\",\n",
    "            \"c\": \"choice here\",\n",
    "            \"d\": \"choice here\",\n",
    "        },\n",
    "        \"correct\": \"correct answer\",\n",
    "    },\n",
    "    \"2\": {\n",
    "        \"mcq\": \"multiple choice question\",\n",
    "        \"options\": {\n",
    "            \"a\": \"choice here\",\n",
    "            \"b\": \"choice here\",\n",
    "            \"c\": \"choice here\",\n",
    "            \"d\": \"choice here\",\n",
    "        },\n",
    "        \"correct\": \"correct answer\",\n",
    "    },\n",
    "    \"3\": {\n",
    "        \"mcq\": \"multiple choice question\",\n",
    "        \"options\": {\n",
    "            \"a\": \"choice here\",\n",
    "            \"b\": \"choice here\",\n",
    "            \"c\": \"choice here\",\n",
    "            \"d\": \"choice here\",\n",
    "        },\n",
    "        \"correct\": \"correct answer\",\n",
    "    },\n",
    "}"
   ]
  },
  {
   "cell_type": "code",
   "execution_count": 25,
   "metadata": {},
   "outputs": [],
   "source": [
    "TEMPLATE=\"\"\"\n",
    "Text:{text}\n",
    "You are an expert MCQ maker. Given the above text, it is your job to \\\n",
    "create a quiz  of {number} multiple choice questions for {subject} students in {tone} tone. \n",
    "Make sure the questions are not repeated and check all the questions to be conforming the text as well.\n",
    "Make sure to format your response like  RESPONSE_JSON below  and use it as a guide. \\\n",
    "Ensure to make {number} MCQs\n",
    "### RESPONSE_JSON\n",
    "{response_json}\n",
    "\n",
    "\"\"\""
   ]
  },
  {
   "cell_type": "code",
   "execution_count": 18,
   "metadata": {},
   "outputs": [],
   "source": [
    "quiz_generation_prompt = PromptTemplate(\n",
    "    input_variables=[\"text\", \"number\", \"subject\", \"tone\", \"response_json\"],\n",
    "    template=TEMPLATE\n",
    "    )"
   ]
  },
  {
   "cell_type": "code",
   "execution_count": 77,
   "metadata": {},
   "outputs": [],
   "source": [
    "quiz_chain= quiz_generation_prompt | chat | StrOutputParser()"
   ]
  },
  {
   "cell_type": "markdown",
   "metadata": {},
   "source": [
    "quiz_chain.invoke({})"
   ]
  },
  {
   "cell_type": "code",
   "execution_count": 20,
   "metadata": {},
   "outputs": [],
   "source": [
    "in_text= \"\"\"Advanced topics in Newtonian physics at the undergraduate level typically include:\n",
    "Lagrangian and Hamiltonian Formulations: These mathematical frameworks provide alternative ways to describe classical mechanics, emphasizing energy and momentum conservation. They are essential for understanding more complex systems and are often used in advanced courses.\n",
    "Deterministic Chaos Theory: This topic explores the intricate behavior of complex systems, such as the Poincaré surface-of-section, which helps students visualize and analyze the dynamics of chaotic systems.\n",
    "Euler's Rigid Body Equations of Motion: These equations describe the motion of rigid bodies, which is crucial for understanding many real-world phenomena, such as the motion of spacecraft and the behavior of molecules.\n",
    "Canonical Perturbation Theory: This method is used to study the long-term behavior of complex systems by analyzing small perturbations to their motion. It is essential for understanding many phenomena in astrophysics and cosmology.\n",
    "Central Force Motion and Scattering: These topics involve the study of the motion of particles under the influence of central forces, such as gravitational or Coulomb forces. They are fundamental to understanding many astrophysical and cosmological phenomena.\n",
    "These advanced topics in Newtonian physics provide a deeper understanding of the underlying principles and help students develop a more nuanced appreciation for the complexities of classical mechanics.\"\"\""
   ]
  },
  {
   "cell_type": "code",
   "execution_count": 29,
   "metadata": {},
   "outputs": [],
   "source": [
    "dict_passed_in={\"text\":in_text, \"number\":5 , \"subject\":\"physics undergrads\", \"tone\":\"moderate\", \"response_json\":RESPONSE_JSON}"
   ]
  },
  {
   "cell_type": "code",
   "execution_count": 81,
   "metadata": {},
   "outputs": [],
   "source": [
    "str_json_output =(quiz_chain.invoke(dict_passed_in)[14:])"
   ]
  },
  {
   "cell_type": "code",
   "execution_count": 82,
   "metadata": {},
   "outputs": [
    {
     "data": {
      "text/plain": [
       "'06_19_2024_12_43_29'"
      ]
     },
     "execution_count": 82,
     "metadata": {},
     "output_type": "execute_result"
    }
   ],
   "source": [
    "from datetime import datetime\n",
    "\n",
    "datetime.now().strftime('%m_%d_%Y_%H_%M_%S')"
   ]
  },
  {
   "cell_type": "code",
   "execution_count": 48,
   "metadata": {},
   "outputs": [],
   "source": [
    "quiz_chain_w_output_key= RunnablePassthrough.assign(quiz= quiz_chain)"
   ]
  },
  {
   "cell_type": "code",
   "execution_count": 61,
   "metadata": {},
   "outputs": [],
   "source": [
    "response=quiz_chain_w_output_key.invoke(dict_passed_in)"
   ]
  },
  {
   "cell_type": "code",
   "execution_count": 67,
   "metadata": {},
   "outputs": [
    {
     "name": "stdout",
     "output_type": "stream",
     "text": [
      "content=\"RESPONSE\\\\_JSON\\n{'1': {'mcq': 'Which of the following mathematical frameworks provides an alternative way to describe classical mechanics, emphasizing energy and momentum conservation?', 'options': {'a': 'Lagrangian Formulation', 'b': 'Hamiltonian Formulation', 'c': 'Newtonian Formulation', 'd': 'Eulerian Formulation'}, 'correct': 'b'}, '2': {'mcq': 'Which of the following topics studies the intricate behavior of complex systems, such as the Poincaré surface-of-section?', 'options': {'a': 'Lagrangian and Hamiltonian Formulations', 'b': 'Deterministic Chaos Theory', 'c': 'Euler\\\\'s Rigid Body Equations of Motion', 'd': 'Canonical Perturbation Theory'}, 'correct': 'b'}, '3': {'mcq': 'Which of the following equations describe the motion of rigid bodies?', 'options': {'a': 'Lagrangian Equations', 'b': 'Hamiltonian Equations', 'c': 'Euler\\\\'s Rigid Body Equations of Motion', 'd': 'Canonical Transformation Equations'}, 'correct': 'c'}, '4': {'mcq': 'Which of the following methods is used to study the long-term behavior of complex systems by analyzing small perturbations to their motion?', 'options': {'a': 'Lagrangian and Hamiltonian Formulations', 'b': 'Canonical Perturbation Theory', 'c': 'Euler\\\\'s Rigid Body Equations of Motion', 'd': 'Deterministic Chaos Theory'}, 'correct': 'b'}, '5': {'mcq': 'Which of the following topics involve the study of the motion of particles under the influence of central forces, such as gravitational or Coulomb forces?', 'options': {'a': 'Central Force Motion and Scattering', 'b': 'Deterministic Chaos Theory', 'c': 'Canonical Perturbation Theory', 'd'): 'Euler\\\\'s Rigid Body Equations of Motion'}, 'correct': 'a'}}\" response_metadata={'token_usage': {'completion_tokens': 475, 'prompt_tokens': 564, 'total_tokens': 1039, 'completion_time': 0.737728632, 'prompt_time': 0.110929172, 'queue_time': None, 'total_time': 0.848657804}, 'model_name': 'mixtral-8x7b-32768', 'system_fingerprint': 'fp_c5f20b5bb1', 'finish_reason': 'stop', 'logprobs': None} id='run-5f0c627d-84bb-4c67-8a34-22fad43d358f-0'\n"
     ]
    }
   ],
   "source": [
    "str_parser = StrOutputParser()\n",
    "parsed_output = str_parser.parse(response.get(\"quiz\"))\n",
    "\n"
   ]
  },
  {
   "cell_type": "code",
   "execution_count": 68,
   "metadata": {},
   "outputs": [
    {
     "name": "stdout",
     "output_type": "stream",
     "text": [
      "<class 'langchain_core.messages.ai.AIMessage'>\n"
     ]
    }
   ],
   "source": []
  },
  {
   "cell_type": "code",
   "execution_count": 66,
   "metadata": {},
   "outputs": [
    {
     "name": "stdout",
     "output_type": "stream",
     "text": [
      "<class 'langchain_core.messages.ai.AIMessage'>\n"
     ]
    }
   ],
   "source": [
    "print(type(final_quiz))"
   ]
  },
  {
   "cell_type": "code",
   "execution_count": 35,
   "metadata": {},
   "outputs": [],
   "source": [
    "TEMPLATE2=\"\"\"\n",
    "You are an expert english grammarian and writer. Given a Multiple Choice Quiz for {subject} students.\\\n",
    "You need to evaluate the complexity of the question and give a complete analysis of the quiz. Only use at max 50 words for complexity analysis. \n",
    "if the quiz is not at per with the cognitive and analytical abilities of the students,\\\n",
    "update the quiz questions which needs to be changed and change the tone such that it perfectly fits the student abilities\n",
    "Quiz_MCQs:\n",
    "{quiz}\n",
    "\n",
    "Check from an expert English Writer of the above quiz:\n",
    "\"\"\""
   ]
  },
  {
   "cell_type": "code",
   "execution_count": 49,
   "metadata": {},
   "outputs": [],
   "source": [
    "quiz_evaluation_prompt=PromptTemplate(input_variables=[\"subject\", \"quiz\"], template=TEMPLATE2)"
   ]
  },
  {
   "cell_type": "code",
   "execution_count": 60,
   "metadata": {},
   "outputs": [
    {
     "ename": "NameError",
     "evalue": "name 'Runna' is not defined",
     "output_type": "error",
     "traceback": [
      "\u001b[1;31m---------------------------------------------------------------------------\u001b[0m",
      "\u001b[1;31mNameError\u001b[0m                                 Traceback (most recent call last)",
      "Cell \u001b[1;32mIn[60], line 9\u001b[0m\n\u001b[0;32m      1\u001b[0m full_prompt_chain\u001b[38;5;241m=\u001b[39m (\n\u001b[0;32m      2\u001b[0m     quiz_chain_w_output_key\n\u001b[0;32m      3\u001b[0m     \u001b[38;5;241m|\u001b[39m{\n\u001b[0;32m      4\u001b[0m         \u001b[38;5;124m\"\u001b[39m\u001b[38;5;124mquiz\u001b[39m\u001b[38;5;124m\"\u001b[39m:itemgetter(\u001b[38;5;124m\"\u001b[39m\u001b[38;5;124mquiz\u001b[39m\u001b[38;5;124m\"\u001b[39m),\n\u001b[0;32m      5\u001b[0m         \u001b[38;5;124m\"\u001b[39m\u001b[38;5;124msubject\u001b[39m\u001b[38;5;124m\"\u001b[39m:itemgetter(\u001b[38;5;124m\"\u001b[39m\u001b[38;5;124msubject\u001b[39m\u001b[38;5;124m\"\u001b[39m)\n\u001b[0;32m      6\u001b[0m     }\n\u001b[0;32m      7\u001b[0m     \u001b[38;5;241m|\u001b[39m quiz_evaluation_prompt\n\u001b[0;32m      8\u001b[0m     \u001b[38;5;241m|\u001b[39mchat\n\u001b[1;32m----> 9\u001b[0m     \u001b[38;5;241m|\u001b[39m\u001b[43mRunna\u001b[49m\n\u001b[0;32m     10\u001b[0m )\n",
      "\u001b[1;31mNameError\u001b[0m: name 'Runna' is not defined"
     ]
    }
   ],
   "source": [
    "full_prompt_chain= (\n",
    "    quiz_chain_w_output_key\n",
    "    |{\n",
    "        \"quiz\":itemgetter(\"quiz\"),\n",
    "        \"subject\":itemgetter(\"subject\")\n",
    "    }\n",
    "    | quiz_evaluation_prompt\n",
    "    |chat\n",
    "    |RunnablePassthrough.assign\n",
    ")"
   ]
  },
  {
   "cell_type": "code",
   "execution_count": 59,
   "metadata": {},
   "outputs": [
    {
     "data": {
      "text/plain": [
       "AIMessage(content=\"The complexity of the quiz is moderate to high, suitable for advanced undergraduates. However, the tone can be updated to be more student-friendly. Here are the revised questions:\\n\\n1. Which of these math tools offers a unique take on classical mechanics, focusing on energy and momentum conservation?\\n   a) Lagrangian Formulation\\n   b) Hamiltonian Formulation\\n   c) Newtonian Formulation\\n   d) Eulerian Formulation\\n2. Which area of study dives into the intricate patterns of complex systems, like the Poincaré surface-of-section?\\n   a) Lagrangian and Hamiltonian Formulations\\n   b) Deterministic Chaos Theory\\n   c) Euler's Rigid Body Equations of Motion\\n   d) Canonical Perturbation Theory\\n3. Which set of equations guides the motion of rigid bodies?\\n   a) Lagrangian Equations\\n   b) Hamiltonian Equations\\n   c) Euler's Rigid Body Equations of Motion\\n   d) Canonical Transformation Equations\\n4. Which method helps analyze the long-term behavior of complex systems by examining minor disruptions in their motion?\\n   a) Lagrangian and Hamiltonian Formulations\\n   b) Canonical Perturbation Theory\\n   c) Euler's Rigid Body Equations of Motion\\n   d) Deterministic Chaos Theory\\n5. Which topic deals with the motion of particles influenced by central forces, such as gravity or Coulomb forces?\\n   a) Central Force Motion and Scattering\\n   b) Deterministic Chaos Theory\\n   c) Canonical Perturbation Theory\\n   d) Euler's Rigid Body Equations of Motion\\n\\nThese revisions maintain the cognitive challenge while being more approachable for students.\", response_metadata={'token_usage': {'completion_tokens': 407, 'prompt_tokens': 823, 'total_tokens': 1230, 'completion_time': 0.645078274, 'prompt_time': 0.144399338, 'queue_time': None, 'total_time': 0.789477612}, 'model_name': 'mixtral-8x7b-32768', 'system_fingerprint': 'fp_c5f20b5bb1', 'finish_reason': 'stop', 'logprobs': None}, id='run-01b75504-fb46-4962-889d-8541228debec-0')"
      ]
     },
     "execution_count": 59,
     "metadata": {},
     "output_type": "execute_result"
    }
   ],
   "source": [
    "full_prompt_chain.invoke(dict_passed_in)"
   ]
  }
 ],
 "metadata": {
  "kernelspec": {
   "display_name": "Python 3",
   "language": "python",
   "name": "python3"
  },
  "language_info": {
   "name": "python",
   "version": "3.11.9"
  }
 },
 "nbformat": 4,
 "nbformat_minor": 2
}
